{
 "cells": [
  {
   "cell_type": "markdown",
   "metadata": {},
   "source": [
    "# Motivation\n",
    "<p>This analysis was inspired by the content in this youtube video by Veritasium: https://www.youtube.com/watch?v=3LopI4YeC4I&t</p>\n",
    "\n",
    "<p>Starting at 3:36 in the video, Derek (guy in the awesome CGP Grey shirt) uses the NASA astronaut selection process as an example where 18300 applicants are competing for top 11 positions. He proposes a 95:5 ratio of skill score to luck score to obtain a total score of which only the top 11 would be successful. He concludes that the top 11 are very lucky, having an average luck score of 94.7% according to his simulation.</p>\n",
    "\n",
    "<p>Intuitively, if the ratio of contribution to the final score was a 95:5 ratio, that should not change just because a higher consecutive subset was chosen in the distribution. To test this out, I decided to model his experiment using a normal distribution and an even distribution.</p>\n",
    "\n",
    "<p>The conclusion is in the last cell of this notebeook for those not interested in the code that generated the simulation.</p>\n"
   ]
  },
  {
   "cell_type": "markdown",
   "metadata": {},
   "source": [
    "# Imports and assumptions"
   ]
  },
  {
   "cell_type": "code",
   "execution_count": 1,
   "metadata": {},
   "outputs": [],
   "source": [
    "import numpy as np\n",
    "import pandas as pd\n",
    "import matplotlib.pyplot as plt\n",
    "\n",
    "np.random.seed(1729)\n",
    "# There is a mean and std_dev tester below which I used to test these. \n",
    "# These values were chosen as they gave top 10 values that were close to the limits of 95 and 5 without exceeding them too often\n",
    "mean_skill = 47.5\n",
    "std_skill = 11\n",
    "mean_luck = 2.5\n",
    "std_luck=0.6"
   ]
  },
  {
   "cell_type": "markdown",
   "metadata": {},
   "source": [
    "# Mean and Standard deviation testers"
   ]
  },
  {
   "cell_type": "code",
   "execution_count": 2,
   "metadata": {},
   "outputs": [
    {
     "data": {
      "text/plain": [
       "[[87.4714925620294],\n",
       " [86.488989402102],\n",
       " [95.51662463230288],\n",
       " [91.1075930197654],\n",
       " [94.08599045003076]]"
      ]
     },
     "execution_count": 2,
     "metadata": {},
     "output_type": "execute_result"
    }
   ],
   "source": [
    "[sorted(np.random.normal(47.5,11,size=18300))[-1:] for i in range(5)]"
   ]
  },
  {
   "cell_type": "code",
   "execution_count": 3,
   "metadata": {},
   "outputs": [
    {
     "data": {
      "text/plain": [
       "[[4.892975021896092],\n",
       " [4.746956533254285],\n",
       " [4.750529517974606],\n",
       " [5.067885433027943],\n",
       " [4.8178616009937265]]"
      ]
     },
     "execution_count": 3,
     "metadata": {},
     "output_type": "execute_result"
    }
   ],
   "source": [
    "[sorted(np.random.normal(2.5,0.6,size=18300))[-1:] for i in range(5)]"
   ]
  },
  {
   "cell_type": "markdown",
   "metadata": {},
   "source": [
    "# Test Run"
   ]
  },
  {
   "cell_type": "code",
   "execution_count": 4,
   "metadata": {},
   "outputs": [],
   "source": [
    "skill = np.random.normal(mean_skill,std_skill,size=18300)\n",
    "luck = np.random.normal(mean_luck,std_luck,size=18300)"
   ]
  },
  {
   "cell_type": "code",
   "execution_count": 5,
   "metadata": {},
   "outputs": [],
   "source": [
    "astro = pd.DataFrame({'skill':skill, 'luck':luck})\n",
    "astro['total'] = astro.skill.values + astro.luck.values"
   ]
  },
  {
   "cell_type": "code",
   "execution_count": 6,
   "metadata": {},
   "outputs": [
    {
     "data": {
      "text/html": [
       "<div>\n",
       "<style scoped>\n",
       "    .dataframe tbody tr th:only-of-type {\n",
       "        vertical-align: middle;\n",
       "    }\n",
       "\n",
       "    .dataframe tbody tr th {\n",
       "        vertical-align: top;\n",
       "    }\n",
       "\n",
       "    .dataframe thead th {\n",
       "        text-align: right;\n",
       "    }\n",
       "</style>\n",
       "<table border=\"1\" class=\"dataframe\">\n",
       "  <thead>\n",
       "    <tr style=\"text-align: right;\">\n",
       "      <th></th>\n",
       "      <th>skill</th>\n",
       "      <th>luck</th>\n",
       "      <th>total</th>\n",
       "    </tr>\n",
       "  </thead>\n",
       "  <tbody>\n",
       "    <tr>\n",
       "      <th>9904</th>\n",
       "      <td>89.854107</td>\n",
       "      <td>2.130701</td>\n",
       "      <td>91.984808</td>\n",
       "    </tr>\n",
       "    <tr>\n",
       "      <th>1331</th>\n",
       "      <td>87.798236</td>\n",
       "      <td>2.545964</td>\n",
       "      <td>90.344200</td>\n",
       "    </tr>\n",
       "    <tr>\n",
       "      <th>9881</th>\n",
       "      <td>86.757163</td>\n",
       "      <td>2.096843</td>\n",
       "      <td>88.854006</td>\n",
       "    </tr>\n",
       "    <tr>\n",
       "      <th>1502</th>\n",
       "      <td>86.404505</td>\n",
       "      <td>2.441758</td>\n",
       "      <td>88.846263</td>\n",
       "    </tr>\n",
       "    <tr>\n",
       "      <th>6120</th>\n",
       "      <td>85.782278</td>\n",
       "      <td>2.209904</td>\n",
       "      <td>87.992182</td>\n",
       "    </tr>\n",
       "    <tr>\n",
       "      <th>8986</th>\n",
       "      <td>85.729862</td>\n",
       "      <td>2.170705</td>\n",
       "      <td>87.900566</td>\n",
       "    </tr>\n",
       "    <tr>\n",
       "      <th>6245</th>\n",
       "      <td>84.349227</td>\n",
       "      <td>2.858646</td>\n",
       "      <td>87.207872</td>\n",
       "    </tr>\n",
       "    <tr>\n",
       "      <th>2337</th>\n",
       "      <td>84.207718</td>\n",
       "      <td>2.581368</td>\n",
       "      <td>86.789086</td>\n",
       "    </tr>\n",
       "    <tr>\n",
       "      <th>12945</th>\n",
       "      <td>84.271392</td>\n",
       "      <td>2.133976</td>\n",
       "      <td>86.405368</td>\n",
       "    </tr>\n",
       "    <tr>\n",
       "      <th>14311</th>\n",
       "      <td>83.777828</td>\n",
       "      <td>2.452488</td>\n",
       "      <td>86.230316</td>\n",
       "    </tr>\n",
       "    <tr>\n",
       "      <th>472</th>\n",
       "      <td>82.422514</td>\n",
       "      <td>3.568704</td>\n",
       "      <td>85.991218</td>\n",
       "    </tr>\n",
       "  </tbody>\n",
       "</table>\n",
       "</div>"
      ],
      "text/plain": [
       "           skill      luck      total\n",
       "9904   89.854107  2.130701  91.984808\n",
       "1331   87.798236  2.545964  90.344200\n",
       "9881   86.757163  2.096843  88.854006\n",
       "1502   86.404505  2.441758  88.846263\n",
       "6120   85.782278  2.209904  87.992182\n",
       "8986   85.729862  2.170705  87.900566\n",
       "6245   84.349227  2.858646  87.207872\n",
       "2337   84.207718  2.581368  86.789086\n",
       "12945  84.271392  2.133976  86.405368\n",
       "14311  83.777828  2.452488  86.230316\n",
       "472    82.422514  3.568704  85.991218"
      ]
     },
     "execution_count": 6,
     "metadata": {},
     "output_type": "execute_result"
    }
   ],
   "source": [
    "astro.sort_values(by='total', inplace=True, ascending=False)\n",
    "astro.head(11)"
   ]
  },
  {
   "cell_type": "code",
   "execution_count": 7,
   "metadata": {},
   "outputs": [
    {
     "data": {
      "text/plain": [
       "(85.57771170500494, 2.4719143034660704)"
      ]
     },
     "execution_count": 7,
     "metadata": {},
     "output_type": "execute_result"
    }
   ],
   "source": [
    "astro.head(11)['skill'].mean(),astro.head(11)['luck'].mean()"
   ]
  },
  {
   "cell_type": "markdown",
   "metadata": {},
   "source": [
    "# Normal distribution"
   ]
  },
  {
   "cell_type": "code",
   "execution_count": 8,
   "metadata": {},
   "outputs": [],
   "source": [
    "def astro_selection_round_means_normal():\n",
    "    skill = np.random.normal(mean_skill, std_skill,size=18300)\n",
    "    luck = np.random.normal(mean_luck, std_luck,size=18300)\n",
    "    candidates = pd.DataFrame({'skill':skill, 'luck':luck})\n",
    "    candidates['total'] = candidates.skill.values + candidates.luck.values\n",
    "    candidates.sort_values(by='total', inplace=True, ascending=False)\n",
    "    return candidates.head(11)['skill'].mean(), candidates.head(11)['luck'].mean()"
   ]
  },
  {
   "cell_type": "code",
   "execution_count": 9,
   "metadata": {},
   "outputs": [
    {
     "data": {
      "text/plain": [
       "[(83.56785061727928, 2.5570712417767645),\n",
       " (86.23924060145566, 2.6360402240257894),\n",
       " (84.71025663692605, 2.4128048268390345),\n",
       " (85.75897723461198, 2.6034206708217464),\n",
       " (84.28867332739578, 3.1194240976503718)]"
      ]
     },
     "execution_count": 9,
     "metadata": {},
     "output_type": "execute_result"
    }
   ],
   "source": [
    "thousand_runs = [astro_selection_round_means_normal() for i in range(1000)]\n",
    "# Little sanity check\n",
    "thousand_runs[:5]"
   ]
  },
  {
   "cell_type": "code",
   "execution_count": 10,
   "metadata": {},
   "outputs": [],
   "source": [
    "normal_run = np.array(thousand_runs).transpose()"
   ]
  },
  {
   "cell_type": "code",
   "execution_count": 11,
   "metadata": {},
   "outputs": [
    {
     "name": "stdout",
     "output_type": "stream",
     "text": [
      "Mean skill of top 11: 85.7887061870536\n",
      "Standard deviations from mean: 3.4807914715503276\n"
     ]
    },
    {
     "data": {
      "image/png": "[encoded data removed]",
      "text/plain": [
       "<Figure size 432x288 with 1 Axes>"
      ]
     },
     "metadata": {
      "needs_background": "light"
     },
     "output_type": "display_data"
    }
   ],
   "source": [
    "plt.hist(normal_run[0])\n",
    "print(f\"Mean skill of top 11: {normal_run[0].mean()}\")\n",
    "print(f\"Standard deviations from mean: {(normal_run[0].mean() - mean_skill)/std_skill}\")\n",
    "plt.show()"
   ]
  },
  {
   "cell_type": "code",
   "execution_count": 12,
   "metadata": {},
   "outputs": [
    {
     "name": "stdout",
     "output_type": "stream",
     "text": [
      "Mean luck of top 11: 2.61137625303812\n",
      "Standard deviations from mean luck: 0.18562708839686692\n"
     ]
    },
    {
     "data": {
      "image/png": "[encoded data removed]",
      "text/plain": [
       "<Figure size 432x288 with 1 Axes>"
      ]
     },
     "metadata": {
      "needs_background": "light"
     },
     "output_type": "display_data"
    }
   ],
   "source": [
    "plt.hist(normal_run[1])\n",
    "print(f\"Mean luck of top 11: {normal_run[1].mean()}\")\n",
    "print(f\"Standard deviations from mean luck: {(normal_run[1].mean() - mean_luck)/std_luck}\")\n",
    "plt.show()"
   ]
  },
  {
   "cell_type": "markdown",
   "metadata": {},
   "source": [
    "# Even distribution"
   ]
  },
  {
   "cell_type": "code",
   "execution_count": 13,
   "metadata": {},
   "outputs": [],
   "source": [
    "def astro_selection_round_mean_luck_even():\n",
    "    skill = np.random.rand(18300)\n",
    "    luck = np.random.rand(18300)\n",
    "    candidates = pd.DataFrame({'skill':skill, 'luck':luck})\n",
    "    candidates['total'] = candidates.skill.values*95 + candidates.luck.values*5\n",
    "    candidates.sort_values(by='total', inplace=True, ascending=False)\n",
    "    return candidates.head(11)['skill'].mean(), candidates.head(11)['luck'].mean()"
   ]
  },
  {
   "cell_type": "code",
   "execution_count": 14,
   "metadata": {},
   "outputs": [
    {
     "data": {
      "text/plain": [
       "[(0.9972516699197507, 0.9234737586676457),\n",
       " (0.9970379678373696, 0.9327611709285262),\n",
       " (0.9971396382943074, 0.9638324361720081),\n",
       " (0.9976279009211866, 0.9598797144643172),\n",
       " (0.9970424821783507, 0.9364191353821223)]"
      ]
     },
     "execution_count": 14,
     "metadata": {},
     "output_type": "execute_result"
    }
   ],
   "source": [
    "thousand_runs = [astro_selection_round_mean_luck_even() for i in range(1000)]\n",
    "# Little sanity check\n",
    "thousand_runs[:5]"
   ]
  },
  {
   "cell_type": "code",
   "execution_count": 15,
   "metadata": {},
   "outputs": [],
   "source": [
    "even_run = np.array(thousand_runs).transpose()"
   ]
  },
  {
   "cell_type": "code",
   "execution_count": 16,
   "metadata": {},
   "outputs": [
    {
     "name": "stdout",
     "output_type": "stream",
     "text": [
      "0.9972828357466184\n"
     ]
    },
    {
     "data": {
      "image/png": "[encoded data removed]",
      "text/plain": [
       "<Figure size 432x288 with 1 Axes>"
      ]
     },
     "metadata": {
      "needs_background": "light"
     },
     "output_type": "display_data"
    }
   ],
   "source": [
    "plt.hist(even_run[0])\n",
    "print(even_run[0].mean())\n",
    "plt.show()"
   ]
  },
  {
   "cell_type": "code",
   "execution_count": 17,
   "metadata": {},
   "outputs": [
    {
     "name": "stdout",
     "output_type": "stream",
     "text": [
      "0.9483866497988286\n"
     ]
    },
    {
     "data": {
      "image/png": "[encoded data removed]",
      "text/plain": [
       "<Figure size 432x288 with 1 Axes>"
      ]
     },
     "metadata": {
      "needs_background": "light"
     },
     "output_type": "display_data"
    }
   ],
   "source": [
    "plt.hist(even_run[1])\n",
    "print(even_run[1].mean())\n",
    "plt.show()"
   ]
  },
  {
   "cell_type": "markdown",
   "metadata": {},
   "source": [
    "# Conclusion\n",
    "\n",
    "<p>It seems that Derek used an even distribution to get his 94.7% attribution of success to luck. However, an even distribution of luck and skill might not be a good model of the world.</p>\n",
    "<p>When a normal distribution for luck and skill is used, the simulation shows that on average, the skill of the top 11 is 3.481 standard deviations from the mean and luck is only 0.186 standard deviations from the mean. This is closer to a 95:5 ratio of contribution.</p>\n",
    "<p>3.481 / 0.186 = 18.715</p>\n",
    "<p>95 / 5 = 19</p>"
   ]
  }
 ],
 "metadata": {
  "kernelspec": {
   "display_name": "Python 3",
   "language": "python",
   "name": "python3"
  },
  "language_info": {
   "codemirror_mode": {
    "name": "ipython",
    "version": 3
   },
   "file_extension": ".py",
   "mimetype": "text/x-python",
   "name": "python",
   "nbconvert_exporter": "python",
   "pygments_lexer": "ipython3",
   "version": "3.6.9"
  }
 },
 "nbformat": 4,
 "nbformat_minor": 4
}
