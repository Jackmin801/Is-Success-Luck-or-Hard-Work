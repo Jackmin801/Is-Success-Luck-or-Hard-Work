{
 "cells": [
  {
   "cell_type": "markdown",
   "metadata": {},
   "source": [
    "# How different would the selection be if there was no luck?\n",
    "\n",
    "<p>As a continuation of the analysis, let's find out how many people were 'deserving' of their top 11 position by taking the top 11 based on total and top 11 based on skill, then finding the intersection between these 2 sets of candidates (candidates that wouldve made top 11 even if there was no luck).</p>"
   ]
  },
  {
   "cell_type": "markdown",
   "metadata": {},
   "source": [
    "# Imports and assumptions"
   ]
  },
  {
   "cell_type": "code",
   "execution_count": 1,
   "metadata": {},
   "outputs": [],
   "source": [
    "import numpy as np\n",
    "import pandas as pd\n",
    "import matplotlib.pyplot as plt\n",
    "\n",
    "np.random.seed(1729)\n",
    "# There is a mean and std_dev tester below which I used to test these. \n",
    "# These values were chosen as they gave top 10 values that were close to the limits of 95 and 5 without exceeding them too often\n",
    "mean_skill = 47.5\n",
    "std_skill = 11\n",
    "mean_luck = 2.5\n",
    "std_luck=0.6"
   ]
  },
  {
   "cell_type": "markdown",
   "metadata": {},
   "source": [
    "# Mean and Standard deviation testers"
   ]
  },
  {
   "cell_type": "code",
   "execution_count": 2,
   "metadata": {},
   "outputs": [
    {
     "data": {
      "text/plain": [
       "[[87.4714925620294],\n",
       " [86.488989402102],\n",
       " [95.51662463230288],\n",
       " [91.1075930197654],\n",
       " [94.08599045003076]]"
      ]
     },
     "execution_count": 2,
     "metadata": {},
     "output_type": "execute_result"
    }
   ],
   "source": [
    "[sorted(np.random.normal(47.5,11,size=18300))[-1:] for i in range(5)]"
   ]
  },
  {
   "cell_type": "code",
   "execution_count": 3,
   "metadata": {},
   "outputs": [
    {
     "data": {
      "text/plain": [
       "[[4.892975021896092],\n",
       " [4.746956533254285],\n",
       " [4.750529517974606],\n",
       " [5.067885433027943],\n",
       " [4.8178616009937265]]"
      ]
     },
     "execution_count": 3,
     "metadata": {},
     "output_type": "execute_result"
    }
   ],
   "source": [
    "[sorted(np.random.normal(2.5,0.6,size=18300))[-1:] for i in range(5)]"
   ]
  },
  {
   "cell_type": "markdown",
   "metadata": {},
   "source": [
    " # Test run"
   ]
  },
  {
   "cell_type": "code",
   "execution_count": 4,
   "metadata": {},
   "outputs": [
    {
     "name": "stdout",
     "output_type": "stream",
     "text": [
      "           skill      luck      total\n",
      "9904   89.854107  2.130701  91.984808\n",
      "1331   87.798236  2.545964  90.344200\n",
      "9881   86.757163  2.096843  88.854006\n",
      "1502   86.404505  2.441758  88.846263\n",
      "6120   85.782278  2.209904  87.992182\n",
      "8986   85.729862  2.170705  87.900566\n",
      "6245   84.349227  2.858646  87.207872\n",
      "2337   84.207718  2.581368  86.789086\n",
      "12945  84.271392  2.133976  86.405368\n",
      "14311  83.777828  2.452488  86.230316\n",
      "472    82.422514  3.568704  85.991218\n",
      "           skill      luck      total\n",
      "9904   89.854107  2.130701  91.984808\n",
      "1331   87.798236  2.545964  90.344200\n",
      "9881   86.757163  2.096843  88.854006\n",
      "1502   86.404505  2.441758  88.846263\n",
      "6120   85.782278  2.209904  87.992182\n",
      "8986   85.729862  2.170705  87.900566\n",
      "6245   84.349227  2.858646  87.207872\n",
      "12945  84.271392  2.133976  86.405368\n",
      "2337   84.207718  2.581368  86.789086\n",
      "15911  83.988679  1.952935  85.941614\n",
      "14311  83.777828  2.452488  86.230316\n",
      "Total top 11: {2337, 6245, 14311, 6120, 9904, 12945, 1331, 472, 9881, 8986, 1502}\n",
      "Skill top 11: {2337, 6245, 14311, 6120, 9904, 12945, 1331, 472, 9881, 8986, 1502}\n",
      "Deserving Candidates: 10\n"
     ]
    }
   ],
   "source": [
    "skill = np.random.normal(mean_skill, std_skill,size=18300)\n",
    "luck = np.random.normal(mean_luck, std_luck,size=18300)\n",
    "candidates = pd.DataFrame({'skill':skill, 'luck':luck})\n",
    "candidates['total'] = candidates.skill.values + candidates.luck.values\n",
    "\n",
    "candidates.sort_values(by='total', inplace=True, ascending=False)\n",
    "print(candidates.head(11))\n",
    "selected = set(candidates.head(11).index.values.copy())\n",
    "\n",
    "candidates.sort_values(by='skill', inplace=True, ascending=False)\n",
    "print(candidates.head(11))\n",
    "deserving = set(candidates.head(11).index.values.copy())\n",
    "print(\"Total top 11: \"+str(selected))\n",
    "print(\"Skill top 11: \"+str(selected))\n",
    "print(\"Deserving Candidates: \"+str(len(selected.intersection(deserving))))"
   ]
  },
  {
   "cell_type": "markdown",
   "metadata": {},
   "source": [
    "# Normal distribution"
   ]
  },
  {
   "cell_type": "code",
   "execution_count": 5,
   "metadata": {},
   "outputs": [],
   "source": [
    "def astro_selection_round_deserving_normal(n_top):\n",
    "    skill = np.random.normal(mean_skill, std_skill,size=18300)\n",
    "    luck = np.random.normal(mean_luck, std_luck,size=18300)\n",
    "    candidates = pd.DataFrame({'skill':skill, 'luck':luck})\n",
    "    candidates['total'] = candidates.skill.values + candidates.luck.values\n",
    "\n",
    "    candidates.sort_values(by='total', inplace=True, ascending=False)\n",
    "    selected = set(candidates.head(n_top).index.values.copy())\n",
    "\n",
    "    candidates.sort_values(by='skill', inplace=True, ascending=False)\n",
    "    deserving = set(candidates.head(n_top).index.values.copy())\n",
    "    return len(selected.intersection(deserving))"
   ]
  },
  {
   "cell_type": "code",
   "execution_count": 6,
   "metadata": {},
   "outputs": [
    {
     "data": {
      "text/plain": [
       "[9, 10, 9, 10, 9]"
      ]
     },
     "execution_count": 6,
     "metadata": {},
     "output_type": "execute_result"
    }
   ],
   "source": [
    "thousand_runs = [astro_selection_round_deserving_normal(11) for i in range(1000)]\n",
    "# Little sanity check\n",
    "thousand_runs[:5]"
   ]
  },
  {
   "cell_type": "code",
   "execution_count": 7,
   "metadata": {},
   "outputs": [],
   "source": [
    "deserving_candidates = np.array(thousand_runs)"
   ]
  },
  {
   "cell_type": "code",
   "execution_count": 8,
   "metadata": {},
   "outputs": [
    {
     "name": "stdout",
     "output_type": "stream",
     "text": [
      "Mean amount of deserving candidates: 10.044\n",
      "Standard deviation of distribution: 0.7321639160734432\n"
     ]
    },
    {
     "data": {
      "image/png": "[encoded data removed]",
      "text/plain": [
       "<Figure size 432x288 with 1 Axes>"
      ]
     },
     "metadata": {
      "needs_background": "light"
     },
     "output_type": "display_data"
    }
   ],
   "source": [
    "plt.hist(deserving_candidates)\n",
    "print(f\"Mean amount of deserving candidates: {deserving_candidates.mean()}\")\n",
    "print(f\"Standard deviation of distribution: {deserving_candidates.std()}\")\n",
    "plt.show()"
   ]
  },
  {
   "cell_type": "markdown",
   "metadata": {},
   "source": [
    "# Even distribution"
   ]
  },
  {
   "cell_type": "code",
   "execution_count": 9,
   "metadata": {},
   "outputs": [
    {
     "name": "stdout",
     "output_type": "stream",
     "text": [
      "Mean amount of deserving candidates: 1.569\n",
      "Standard deviation of distribution: 1.0877678980370764\n"
     ]
    },
    {
     "data": {
      "image/png": "[encoded data removed]",
      "text/plain": [
       "<Figure size 432x288 with 1 Axes>"
      ]
     },
     "metadata": {
      "needs_background": "light"
     },
     "output_type": "display_data"
    }
   ],
   "source": [
    "def astro_selection_round_deserving_even(n_top):\n",
    "    skill = np.random.rand(18300)\n",
    "    luck = np.random.rand(18300)\n",
    "    candidates = pd.DataFrame({'skill':skill, 'luck':luck})\n",
    "    candidates['total'] = candidates.skill.values*95 + candidates.luck.values*5\n",
    "\n",
    "    candidates.sort_values(by='total', inplace=True, ascending=False)\n",
    "    selected = set(candidates.head(n_top).index.values.copy())\n",
    "\n",
    "    candidates.sort_values(by='skill', inplace=True, ascending=False)\n",
    "    deserving = set(candidates.head(n_top).index.values.copy())\n",
    "    return len(selected.intersection(deserving))\n",
    "\n",
    "thousand_runs = [astro_selection_round_deserving_even(11) for i in range(1000)]\n",
    "\n",
    "deserving_candidates = np.array(thousand_runs)\n",
    "\n",
    "plt.hist(deserving_candidates)\n",
    "print(f\"Mean amount of deserving candidates: {deserving_candidates.mean()}\")\n",
    "print(f\"Standard deviation of distribution: {deserving_candidates.std()}\")\n",
    "plt.show()"
   ]
  },
  {
   "cell_type": "markdown",
   "metadata": {},
   "source": [
    "# Conclusion\n",
    "<p> Modeling using the even distribution obtains roughly the same result as the video, where on average, around 1.6 of the 11 candidates are deserving of their place. However, modelling using the normal distribution yields on average 10 of 11 candidates that are deserving of their position.</p>\n",
    "<p> One might conclude, rather strangely, that an even distribution of skill and luck is more unfair than a normal distribution of skill and luck.</p>"
   ]
  }
 ],
 "metadata": {
  "kernelspec": {
   "display_name": "Python 3",
   "language": "python",
   "name": "python3"
  },
  "language_info": {
   "codemirror_mode": {
    "name": "ipython",
    "version": 3
   },
   "file_extension": ".py",
   "mimetype": "text/x-python",
   "name": "python",
   "nbconvert_exporter": "python",
   "pygments_lexer": "ipython3",
   "version": "3.6.9"
  }
 },
 "nbformat": 4,
 "nbformat_minor": 4
}
